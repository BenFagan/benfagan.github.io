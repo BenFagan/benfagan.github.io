{
 "cells": [
  {
   "cell_type": "code",
   "execution_count": 2,
   "metadata": {
    "collapsed": false
   },
   "outputs": [
    {
     "name": "stdout",
     "output_type": "stream",
     "text": [
      "C:\\Users\\10336713\n"
     ]
    }
   ],
   "source": [
    "cd"
   ]
  },
  {
   "cell_type": "code",
   "execution_count": 3,
   "metadata": {
    "collapsed": false
   },
   "outputs": [
    {
     "name": "stdout",
     "output_type": "stream",
     "text": [
      "C:\\Users\\10336713\\desktop\n"
     ]
    }
   ],
   "source": [
    "cd desktop"
   ]
  },
  {
   "cell_type": "code",
   "execution_count": 4,
   "metadata": {
    "collapsed": true
   },
   "outputs": [],
   "source": [
    "%matplotlib inline"
   ]
  },
  {
   "cell_type": "code",
   "execution_count": 5,
   "metadata": {
    "collapsed": true
   },
   "outputs": [],
   "source": [
    "import pandas as pd\n",
    "import numpy as np\n",
    "import matplotlib.pyplot as plt"
   ]
  },
  {
   "cell_type": "code",
   "execution_count": 6,
   "metadata": {
    "collapsed": true
   },
   "outputs": [],
   "source": [
    "df = pd.read_csv('GlobalLandTemperaturesByCountry.csv') # Import data to read "
   ]
  },
  {
   "cell_type": "code",
   "execution_count": 7,
   "metadata": {
    "collapsed": false
   },
   "outputs": [
    {
     "data": {
      "text/html": [
       "<div>\n",
       "<table border=\"1\" class=\"dataframe\">\n",
       "  <thead>\n",
       "    <tr style=\"text-align: right;\">\n",
       "      <th></th>\n",
       "      <th>dt</th>\n",
       "      <th>AverageTemperature</th>\n",
       "      <th>AverageTemperatureUncertainty</th>\n",
       "      <th>Country</th>\n",
       "    </tr>\n",
       "  </thead>\n",
       "  <tbody>\n",
       "    <tr>\n",
       "      <th>0</th>\n",
       "      <td>1743-11-01</td>\n",
       "      <td>4.384</td>\n",
       "      <td>2.294</td>\n",
       "      <td>Åland</td>\n",
       "    </tr>\n",
       "    <tr>\n",
       "      <th>1</th>\n",
       "      <td>1743-12-01</td>\n",
       "      <td>NaN</td>\n",
       "      <td>NaN</td>\n",
       "      <td>Åland</td>\n",
       "    </tr>\n",
       "    <tr>\n",
       "      <th>2</th>\n",
       "      <td>1744-01-01</td>\n",
       "      <td>NaN</td>\n",
       "      <td>NaN</td>\n",
       "      <td>Åland</td>\n",
       "    </tr>\n",
       "    <tr>\n",
       "      <th>3</th>\n",
       "      <td>1744-02-01</td>\n",
       "      <td>NaN</td>\n",
       "      <td>NaN</td>\n",
       "      <td>Åland</td>\n",
       "    </tr>\n",
       "    <tr>\n",
       "      <th>4</th>\n",
       "      <td>1744-03-01</td>\n",
       "      <td>NaN</td>\n",
       "      <td>NaN</td>\n",
       "      <td>Åland</td>\n",
       "    </tr>\n",
       "    <tr>\n",
       "      <th>5</th>\n",
       "      <td>1744-04-01</td>\n",
       "      <td>1.530</td>\n",
       "      <td>4.680</td>\n",
       "      <td>Åland</td>\n",
       "    </tr>\n",
       "    <tr>\n",
       "      <th>6</th>\n",
       "      <td>1744-05-01</td>\n",
       "      <td>6.702</td>\n",
       "      <td>1.789</td>\n",
       "      <td>Åland</td>\n",
       "    </tr>\n",
       "    <tr>\n",
       "      <th>7</th>\n",
       "      <td>1744-06-01</td>\n",
       "      <td>11.609</td>\n",
       "      <td>1.577</td>\n",
       "      <td>Åland</td>\n",
       "    </tr>\n",
       "    <tr>\n",
       "      <th>8</th>\n",
       "      <td>1744-07-01</td>\n",
       "      <td>15.342</td>\n",
       "      <td>1.410</td>\n",
       "      <td>Åland</td>\n",
       "    </tr>\n",
       "    <tr>\n",
       "      <th>9</th>\n",
       "      <td>1744-08-01</td>\n",
       "      <td>NaN</td>\n",
       "      <td>NaN</td>\n",
       "      <td>Åland</td>\n",
       "    </tr>\n",
       "  </tbody>\n",
       "</table>\n",
       "</div>"
      ],
      "text/plain": [
       "           dt  AverageTemperature  AverageTemperatureUncertainty Country\n",
       "0  1743-11-01               4.384                          2.294   Åland\n",
       "1  1743-12-01                 NaN                            NaN   Åland\n",
       "2  1744-01-01                 NaN                            NaN   Åland\n",
       "3  1744-02-01                 NaN                            NaN   Åland\n",
       "4  1744-03-01                 NaN                            NaN   Åland\n",
       "5  1744-04-01               1.530                          4.680   Åland\n",
       "6  1744-05-01               6.702                          1.789   Åland\n",
       "7  1744-06-01              11.609                          1.577   Åland\n",
       "8  1744-07-01              15.342                          1.410   Åland\n",
       "9  1744-08-01                 NaN                            NaN   Åland"
      ]
     },
     "execution_count": 7,
     "metadata": {},
     "output_type": "execute_result"
    }
   ],
   "source": [
    "df.head(10) #To get headings"
   ]
  },
  {
   "cell_type": "code",
   "execution_count": 8,
   "metadata": {
    "collapsed": false
   },
   "outputs": [
    {
     "name": "stdout",
     "output_type": "stream",
     "text": [
      "                dt  AverageTemperature  AverageTemperatureUncertainty  Country\n",
      "253030  1743-11-01               7.730                          1.854  Ireland\n",
      "253031  1743-12-01                 NaN                            NaN  Ireland\n",
      "253032  1744-01-01                 NaN                            NaN  Ireland\n",
      "253033  1744-02-01                 NaN                            NaN  Ireland\n",
      "253034  1744-03-01                 NaN                            NaN  Ireland\n",
      "253035  1744-04-01               8.814                          2.372  Ireland\n",
      "253036  1744-05-01              10.090                          1.641  Ireland\n",
      "253037  1744-06-01              13.252                          1.765  Ireland\n",
      "253038  1744-07-01              14.273                          1.741  Ireland\n",
      "253039  1744-08-01                 NaN                            NaN  Ireland\n",
      "253040  1744-09-01              11.812                          1.765  Ireland\n",
      "253041  1744-10-01               8.966                          1.774  Ireland\n",
      "253042  1744-11-01               7.288                          1.677  Ireland\n",
      "253043  1744-12-01               5.199                          1.818  Ireland\n",
      "253044  1745-01-01               4.470                          1.769  Ireland\n",
      "253045  1745-02-01               4.108                          1.641  Ireland\n",
      "253046  1745-03-01               5.000                          1.553  Ireland\n",
      "253047  1745-04-01               7.524                          1.586  Ireland\n",
      "253048  1745-05-01                 NaN                            NaN  Ireland\n",
      "253049  1745-06-01                 NaN                            NaN  Ireland\n",
      "253050  1745-07-01                 NaN                            NaN  Ireland\n",
      "253051  1745-08-01                 NaN                            NaN  Ireland\n",
      "253052  1745-09-01                 NaN                            NaN  Ireland\n",
      "253053  1745-10-01                 NaN                            NaN  Ireland\n",
      "253054  1745-11-01                 NaN                            NaN  Ireland\n",
      "253055  1745-12-01                 NaN                            NaN  Ireland\n",
      "253056  1746-01-01                 NaN                            NaN  Ireland\n",
      "253057  1746-02-01                 NaN                            NaN  Ireland\n",
      "253058  1746-03-01                 NaN                            NaN  Ireland\n",
      "253059  1746-04-01                 NaN                            NaN  Ireland\n",
      "...            ...                 ...                            ...      ...\n",
      "256239  2011-04-01              11.100                          0.321  Ireland\n",
      "256240  2011-05-01              11.674                          0.277  Ireland\n",
      "256241  2011-06-01              12.611                          0.313  Ireland\n",
      "256242  2011-07-01              14.526                          0.280  Ireland\n",
      "256243  2011-08-01              14.066                          0.238  Ireland\n",
      "256244  2011-09-01              13.758                          0.230  Ireland\n",
      "256245  2011-10-01              11.524                          0.336  Ireland\n",
      "256246  2011-11-01               9.917                          0.215  Ireland\n",
      "256247  2011-12-01               6.383                          0.341  Ireland\n",
      "256248  2012-01-01               6.987                          0.297  Ireland\n",
      "256249  2012-02-01               7.435                          0.187  Ireland\n",
      "256250  2012-03-01               9.067                          0.324  Ireland\n",
      "256251  2012-04-01               7.628                          0.294  Ireland\n",
      "256252  2012-05-01              11.415                          0.347  Ireland\n",
      "256253  2012-06-01              12.971                          0.302  Ireland\n",
      "256254  2012-07-01              14.338                          0.395  Ireland\n",
      "256255  2012-08-01              15.743                          0.406  Ireland\n",
      "256256  2012-09-01              12.749                          0.341  Ireland\n",
      "256257  2012-10-01               9.242                          0.349  Ireland\n",
      "256258  2012-11-01               6.827                          0.265  Ireland\n",
      "256259  2012-12-01               6.028                          0.413  Ireland\n",
      "256260  2013-01-01               5.720                          0.310  Ireland\n",
      "256261  2013-02-01               5.330                          0.264  Ireland\n",
      "256262  2013-03-01               4.456                          0.352  Ireland\n",
      "256263  2013-04-01               7.798                          0.844  Ireland\n",
      "256264  2013-05-01              10.364                          0.428  Ireland\n",
      "256265  2013-06-01              13.663                          0.248  Ireland\n",
      "256266  2013-07-01              17.299                          0.368  Ireland\n",
      "256267  2013-08-01              15.168                          0.564  Ireland\n",
      "256268  2013-09-01                 NaN                            NaN  Ireland\n",
      "\n",
      "[3239 rows x 4 columns]\n"
     ]
    }
   ],
   "source": [
    "ireland_temp =(df.loc[df['Country'] == 'Ireland']) # Give all records relating to temp in Ireland from earliest date on\n",
    "print ireland_temp"
   ]
  },
  {
   "cell_type": "code",
   "execution_count": 9,
   "metadata": {
    "collapsed": false
   },
   "outputs": [
    {
     "name": "stdout",
     "output_type": "stream",
     "text": [
      "                dt  AverageTemperature  AverageTemperatureUncertainty  Country\n",
      "253030  1743-11-01                7.73                          1.854  Ireland\n",
      "253031  1743-12-01                 NaN                            NaN  Ireland\n",
      "253032  1744-01-01                 NaN                            NaN  Ireland\n",
      "253033  1744-02-01                 NaN                            NaN  Ireland\n",
      "                dt  AverageTemperature  AverageTemperatureUncertainty  Country\n",
      "256265  2013-06-01              13.663                          0.248  Ireland\n",
      "256266  2013-07-01              17.299                          0.368  Ireland\n",
      "256267  2013-08-01              15.168                          0.564  Ireland\n",
      "256268  2013-09-01                 NaN                            NaN  Ireland\n"
     ]
    }
   ],
   "source": [
    "# Alternatively we could do\n",
    "print (df[df.Country == 'Ireland'].head(4))\n",
    "print (df[df.Country == 'Ireland'].tail(4))"
   ]
  },
  {
   "cell_type": "code",
   "execution_count": 10,
   "metadata": {
    "collapsed": false
   },
   "outputs": [
    {
     "name": "stdout",
     "output_type": "stream",
     "text": [
      "           dt  AverageTemperature Country\n",
      "0  1743-11-01               4.384   Åland\n",
      "1  1743-12-01                 NaN   Åland\n",
      "2  1744-01-01                 NaN   Åland\n",
      "3  1744-02-01                 NaN   Åland\n",
      "4  1744-03-01                 NaN   Åland\n"
     ]
    }
   ],
   "source": [
    "# To select only wanted coulmns and store for later use. In this case average temp, date and country\n",
    "columns_wanted = ['dt', 'AverageTemperature', 'Country']\n",
    "print(df[columns_wanted].head())"
   ]
  },
  {
   "cell_type": "code",
   "execution_count": 11,
   "metadata": {
    "collapsed": false,
    "scrolled": true
   },
   "outputs": [],
   "source": [
    "# Now we have an idea of dates\n",
    "# Of interest to me is the winter of 46 - 47 which was supposed to be particularly bitter\n",
    "# now we will look at Europe temperature over time compared to the United States to get an idea\n",
    "# of temp of landmasses Ireland is influenced by temp wise for a later comparison\n",
    "Europe_temp = (df.loc[df['Country'] == 'Europe'])\n",
    "America_temp = (df.loc[df['Country'] == 'United States'])\n",
    "# For later on\n",
    "UK_temp = (df.loc[df['Country'] == 'United Kingdom'])"
   ]
  },
  {
   "cell_type": "code",
   "execution_count": 12,
   "metadata": {
    "collapsed": false
   },
   "outputs": [
    {
     "data": {
      "text/plain": [
       "3239"
      ]
     },
     "execution_count": 12,
     "metadata": {},
     "output_type": "execute_result"
    }
   ],
   "source": [
    "len(Europe_temp) # Get number of occurences"
   ]
  },
  {
   "cell_type": "code",
   "execution_count": 13,
   "metadata": {
    "collapsed": false
   },
   "outputs": [
    {
     "name": "stdout",
     "output_type": "stream",
     "text": [
      "3239\n"
     ]
    },
    {
     "data": {
      "text/plain": [
       "<matplotlib.axes._subplots.AxesSubplot at 0x865ceb8>"
      ]
     },
     "execution_count": 13,
     "metadata": {},
     "output_type": "execute_result"
    },
    {
     "data": {
      "image/png": "[encoded data removed]",
      "text/plain": [
       "<matplotlib.figure.Figure at 0x865c978>"
      ]
     },
     "metadata": {},
     "output_type": "display_data"
    }
   ],
   "source": [
    "dates = pd.date_range('1946-01-01', '1949-09-01', freq='M')\n",
    "columns_wanted = ['dt', 'AverageTemperature','AverageTemperatureUncertainty']\n",
    "europe_temp_no_nan = Europe_temp[columns_wanted]\n",
    "print len(europe_temp_no_nan)\n",
    "europe_ts = pd.Series(data=europe_temp_no_nan['AverageTemperature'].tolist()[3239-44:], index=dates)\n",
    "europe_ts.plot()"
   ]
  },
  {
   "cell_type": "code",
   "execution_count": 14,
   "metadata": {
    "collapsed": false
   },
   "outputs": [
    {
     "data": {
      "text/plain": [
       "2941"
      ]
     },
     "execution_count": 14,
     "metadata": {},
     "output_type": "execute_result"
    }
   ],
   "source": [
    "len(America_temp)"
   ]
  },
  {
   "cell_type": "code",
   "execution_count": 15,
   "metadata": {
    "collapsed": false,
    "scrolled": true
   },
   "outputs": [
    {
     "name": "stdout",
     "output_type": "stream",
     "text": [
      "2941\n"
     ]
    },
    {
     "data": {
      "text/plain": [
       "<matplotlib.axes._subplots.AxesSubplot at 0x915e1d0>"
      ]
     },
     "execution_count": 15,
     "metadata": {},
     "output_type": "execute_result"
    },
    {
     "data": {
      "image/png": "[encoded data removed]",
      "text/plain": [
       "<matplotlib.figure.Figure at 0x92eb5f8>"
      ]
     },
     "metadata": {},
     "output_type": "display_data"
    }
   ],
   "source": [
    "dates = pd.date_range('1946-01-01', '1949-09-01', freq='M')\n",
    "columns_wanted = ['dt', 'AverageTemperature','AverageTemperatureUncertainty']\n",
    "america_temp_no_nan = America_temp[columns_wanted] # No longer filling in nan with 0\n",
    "print len(america_temp_no_nan)\n",
    "america_ts = pd.Series(data=america_temp_no_nan['AverageTemperature'].tolist()[2941-44:], index=dates)\n",
    "america_ts.plot()"
   ]
  },
  {
   "cell_type": "code",
   "execution_count": 16,
   "metadata": {
    "collapsed": false
   },
   "outputs": [
    {
     "data": {
      "text/plain": [
       "<matplotlib.axes._subplots.AxesSubplot at 0x930bf60>"
      ]
     },
     "execution_count": 16,
     "metadata": {},
     "output_type": "execute_result"
    },
    {
     "data": {
      "image/png": "[encoded data removed]",
      "text/plain": [
       "<matplotlib.figure.Figure at 0x930b240>"
      ]
     },
     "metadata": {},
     "output_type": "display_data"
    }
   ],
   "source": [
    "# Bar chart based off above to see if it gives greater clarity\n",
    "fig = plt.figure(figsize=(8,4))\n",
    "ax1 = fig.add_subplot(121)\n",
    "ax1.set_xlabel('Year spread 1946-9')\n",
    "ax1.set_ylabel('Temp')\n",
    "ax1.set_title(\"America Average Temp (Bar)\")\n",
    "america_ts.plot(kind='bar')"
   ]
  },
  {
   "cell_type": "code",
   "execution_count": 17,
   "metadata": {
    "collapsed": false
   },
   "outputs": [
    {
     "data": {
      "text/plain": [
       "<matplotlib.axes._subplots.AxesSubplot at 0x9b5b6d8>"
      ]
     },
     "execution_count": 17,
     "metadata": {},
     "output_type": "execute_result"
    },
    {
     "data": {
      "image/png": "[encoded data removed]",
      "text/plain": [
       "<matplotlib.figure.Figure at 0x9b5bc88>"
      ]
     },
     "metadata": {},
     "output_type": "display_data"
    }
   ],
   "source": [
    "fig2 = plt.figure(figsize=(8,4))\n",
    "ax2 = fig2.add_subplot(121)\n",
    "ax2.set_xlabel('Year spread 1946-9')\n",
    "ax2.set_ylabel('Temp')\n",
    "ax2.set_title(\"Europe Average Temp (Bar)\")\n",
    "europe_ts.plot(kind='bar')"
   ]
  },
  {
   "cell_type": "code",
   "execution_count": 18,
   "metadata": {
    "collapsed": false
   },
   "outputs": [
    {
     "name": "stdout",
     "output_type": "stream",
     "text": [
      "3239\n"
     ]
    },
    {
     "data": {
      "text/plain": [
       "<matplotlib.axes._subplots.AxesSubplot at 0xd207400>"
      ]
     },
     "execution_count": 18,
     "metadata": {},
     "output_type": "execute_result"
    },
    {
     "data": {
      "image/png": "[encoded data removed]",
      "text/plain": [
       "<matplotlib.figure.Figure at 0xd029668>"
      ]
     },
     "metadata": {},
     "output_type": "display_data"
    }
   ],
   "source": [
    "# Having seen Europe and America over 46-49 period we can look at the figures for Ireland and UK\n",
    "dates = pd.date_range('1946-01-01', '1949-09-01', freq='M')\n",
    "columns_wanted = ['dt', 'AverageTemperature','AverageTemperatureUncertainty']\n",
    "ireland_temp_no_nan = ireland_temp[columns_wanted] # No longer filling in nan with 0\n",
    "print len(ireland_temp_no_nan)\n",
    "ireland_ts = pd.Series(data=ireland_temp_no_nan['AverageTemperature'].tolist()[3239-44:], index=dates)\n",
    "ireland_ts.plot()"
   ]
  },
  {
   "cell_type": "code",
   "execution_count": 19,
   "metadata": {
    "collapsed": false
   },
   "outputs": [
    {
     "name": "stdout",
     "output_type": "stream",
     "text": [
      "3239\n"
     ]
    },
    {
     "data": {
      "text/plain": [
       "<matplotlib.axes._subplots.AxesSubplot at 0xd407400>"
      ]
     },
     "execution_count": 19,
     "metadata": {},
     "output_type": "execute_result"
    },
    {
     "data": {
      "image/png": "[encoded data removed]",
      "text/plain": [
       "<matplotlib.figure.Figure at 0xd5ea438>"
      ]
     },
     "metadata": {},
     "output_type": "display_data"
    }
   ],
   "source": [
    "# The above confrims that winter 46/7 was unusually cold for Ireland though not by standards of continent\n",
    "# So what about the UK?\n",
    "dates = pd.date_range('1946-01-01', '1949-09-01', freq='M')\n",
    "columns_wanted = ['dt', 'AverageTemperature','AverageTemperatureUncertainty']\n",
    "uk_temp_no_nan = UK_temp[columns_wanted] # No longer filling in nan with 0\n",
    "print len(uk_temp_no_nan)\n",
    "uk_ts = pd.Series(data=uk_temp_no_nan['AverageTemperature'].tolist()[3239-44:], index=dates)\n",
    "uk_ts.plot()"
   ]
  },
  {
   "cell_type": "code",
   "execution_count": 20,
   "metadata": {
    "collapsed": false
   },
   "outputs": [
    {
     "data": {
      "text/plain": [
       "<matplotlib.axes._subplots.AxesSubplot at 0xd5ea908>"
      ]
     },
     "execution_count": 20,
     "metadata": {},
     "output_type": "execute_result"
    },
    {
     "data": {
      "image/png": "[encoded data removed]",
      "text/plain": [
       "<matplotlib.figure.Figure at 0xda731d0>"
      ]
     },
     "metadata": {},
     "output_type": "display_data"
    }
   ],
   "source": [
    "# Comparing Ireland and UK on same graph\n",
    "ukire_ts = pd.DataFrame(data={'UK Temp' : uk_temp_no_nan['AverageTemperature'].tolist()[3239-44:], 'Irish Temp' : ireland_temp_no_nan['AverageTemperature'].tolist()[3239-44:]}, index=dates, columns=['UK Temp','Irish Temp'])\n",
    "ukire_ts.plot()"
   ]
  },
  {
   "cell_type": "code",
   "execution_count": 21,
   "metadata": {
    "collapsed": false
   },
   "outputs": [
    {
     "data": {
      "text/plain": [
       "[<matplotlib.text.Text at 0xed967f0>]"
      ]
     },
     "execution_count": 21,
     "metadata": {},
     "output_type": "execute_result"
    },
    {
     "data": {
      "image/png": "[encoded data removed]",
      "text/plain": [
       "<matplotlib.figure.Figure at 0x930b978>"
      ]
     },
     "metadata": {},
     "output_type": "display_data"
    }
   ],
   "source": [
    "# Scatterplot of above\n",
    "#temp1 = ukire_ts.plot(color = ['r','g']).scatter(['UK Temp'],['Irish Temp'])\n",
    "temp1 = ukire_ts.plot.scatter(['UK Temp'],['Irish Temp'])\n",
    "temp1.set(title='Temp comparison')"
   ]
  },
  {
   "cell_type": "code",
   "execution_count": 23,
   "metadata": {
    "collapsed": false
   },
   "outputs": [
    {
     "data": {
      "text/plain": [
       "<bound method DataFrame.mean of             Irish Temp\n",
       "1946-01-31       3.612\n",
       "1946-02-28       6.329\n",
       "1946-03-31       9.076\n",
       "1946-04-30      11.208\n",
       "1946-05-31      15.106\n",
       "1946-06-30      15.508\n",
       "1946-07-31      14.691\n",
       "1946-08-31      14.012\n",
       "1946-09-30      10.666\n",
       "1946-10-31       5.984\n",
       "1946-11-30       1.784\n",
       "1946-12-31       4.268\n",
       "1947-01-31       7.129\n",
       "1947-02-28       7.189\n",
       "1947-03-31      11.100\n",
       "1947-04-30      11.674\n",
       "1947-05-31      12.611\n",
       "1947-06-30      14.526\n",
       "1947-07-31      14.066\n",
       "1947-08-31      13.758\n",
       "1947-09-30      11.524\n",
       "1947-10-31       9.917\n",
       "1947-11-30       6.383\n",
       "1947-12-31       6.987\n",
       "1948-01-31       7.435\n",
       "1948-02-29       9.067\n",
       "1948-03-31       7.628\n",
       "1948-04-30      11.415\n",
       "1948-05-31      12.971\n",
       "1948-06-30      14.338\n",
       "1948-07-31      15.743\n",
       "1948-08-31      12.749\n",
       "1948-09-30       9.242\n",
       "1948-10-31       6.827\n",
       "1948-11-30       6.028\n",
       "1948-12-31       5.720\n",
       "1949-01-31       5.330\n",
       "1949-02-28       4.456\n",
       "1949-03-31       7.798\n",
       "1949-04-30      10.364\n",
       "1949-05-31      13.663\n",
       "1949-06-30      17.299\n",
       "1949-07-31      15.168\n",
       "1949-08-31         NaN>"
      ]
     },
     "execution_count": 23,
     "metadata": {},
     "output_type": "execute_result"
    }
   ],
   "source": [
    "# So clearly this doesn't work\n",
    "columns_needed = ['Irish Temp']\n",
    "ukire_ts[columns_needed].mean"
   ]
  },
  {
   "cell_type": "code",
   "execution_count": 29,
   "metadata": {
    "collapsed": false
   },
   "outputs": [
    {
     "data": {
      "text/plain": [
       "10.054627906976748"
      ]
     },
     "execution_count": 29,
     "metadata": {},
     "output_type": "execute_result"
    }
   ],
   "source": [
    "# This way, with numpy, will though.\n",
    "# 1st is average of Irish temp over that period\n",
    "ukire_me = ukire_ts['Irish Temp']\n",
    "np.mean(ukire_me)"
   ]
  },
  {
   "cell_type": "code",
   "execution_count": 30,
   "metadata": {
    "collapsed": false
   },
   "outputs": [
    {
     "data": {
      "text/plain": [
       "9.253488372093024"
      ]
     },
     "execution_count": 30,
     "metadata": {},
     "output_type": "execute_result"
    }
   ],
   "source": [
    "# 2nd is average of Irish temp over that period\n",
    "ukire_me = ukire_ts['UK Temp']\n",
    "np.mean(ukire_me)"
   ]
  },
  {
   "cell_type": "code",
   "execution_count": 103,
   "metadata": {
    "collapsed": false
   },
   "outputs": [
    {
     "data": {
      "text/plain": [
       "<matplotlib.axes._subplots.AxesSubplot at 0x15ec59b0>"
      ]
     },
     "execution_count": 103,
     "metadata": {},
     "output_type": "execute_result"
    },
    {
     "data": {
      "image/png": "[encoded data removed]",
      "text/plain": [
       "<matplotlib.figure.Figure at 0x1584b7f0>"
      ]
     },
     "metadata": {},
     "output_type": "display_data"
    }
   ],
   "source": [
    "# This is a test to check time line - ignore \n",
    "import datetime\n",
    "dStart = datetime.datetime(2013,4,1)\n",
    "dEnd = datetime.datetime(2013,9,1)\n",
    "\n",
    "dateIndex = pd.date_range(start=dStart, end=dEnd, freq='M')\n",
    "\n",
    "testSeries = pd.Series(data=[13.466,17.096,19.585,18.991,0.000],\n",
    "                           index=dateIndex)    \n",
    "\n",
    "ax = plt.figure(figsize=(7,4), dpi=300).add_subplot(111)\n",
    "testSeries.plot(ax=ax, style='v-', label='first line')"
   ]
  }
 ],
 "metadata": {
  "anaconda-cloud": {},
  "kernelspec": {
   "display_name": "Python [Root]",
   "language": "python",
   "name": "Python [Root]"
  },
  "language_info": {
   "codemirror_mode": {
    "name": "ipython",
    "version": 2
   },
   "file_extension": ".py",
   "mimetype": "text/x-python",
   "name": "python",
   "nbconvert_exporter": "python",
   "pygments_lexer": "ipython2",
   "version": "2.7.12"
  }
 },
 "nbformat": 4,
 "nbformat_minor": 0
}
